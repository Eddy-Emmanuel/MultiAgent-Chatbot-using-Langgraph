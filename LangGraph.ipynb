{
 "cells": [
  {
   "cell_type": "code",
   "execution_count": 201,
   "id": "c17811e5-25df-49af-bc49-0b2c62f9a6ab",
   "metadata": {},
   "outputs": [],
   "source": [
    "from dotenv import load_dotenv, find_dotenv\n",
    "load_dotenv(find_dotenv())\n",
    "\n",
    "import os\n",
    "from IPython.display import display, Image, Markdown\n",
    "\n",
    "from functools import partial\n",
    "from pydantic import BaseModel, Field\n",
    "from typing import TypedDict, Literal\n",
    "\n",
    "from langchain_chroma import Chroma\n",
    "from langchain_core.tools import Tool\n",
    "from langchain.document_loaders import PyPDFLoader\n",
    "from langchain_openai import ChatOpenAI, OpenAIEmbeddings\n",
    "from langchain_community.tools import TavilySearchResults\n",
    "from langchain.tools.retriever import create_retriever_tool\n",
    "from langchain_text_splitters import RecursiveCharacterTextSplitter\n",
    "from langchain.agents import create_tool_calling_agent, AgentExecutor\n",
    "from langchain.prompts import ChatPromptTemplate, MessagesPlaceholder\n",
    "from langchain_huggingface import HuggingFaceEmbeddings, HuggingFaceEndpoint, ChatHuggingFace\n",
    "\n",
    "from langgraph.graph import START, END, StateGraph"
   ]
  },
  {
   "cell_type": "code",
   "execution_count": 203,
   "id": "d3c1e579-daaf-47d2-9a44-aca63868a6ff",
   "metadata": {},
   "outputs": [],
   "source": [
    "os.environ[\"TAVILY_API_KEY\"] = os.getenv(\"TavilyApiKey\")\n",
    "os.environ[\"OPENAI_API_KEY\"] = os.getenv(\"OPENAI_API_KEY\")"
   ]
  },
  {
   "cell_type": "code",
   "execution_count": 311,
   "id": "ebd99bd1-98e7-4e3e-a241-bb7625324d06",
   "metadata": {},
   "outputs": [],
   "source": [
    "def CreateDocRetrieverTool(path:str):\n",
    "    Chroma().delete_collection()\n",
    "    \n",
    "    pdf_loader = PyPDFLoader(file_path=path)\n",
    "    loaded_pdf = pdf_loader.load()\n",
    "    txt_splitter = RecursiveCharacterTextSplitter(chunk_size=10000, \n",
    "                                                  chunk_overlap=100,\n",
    "                                                  length_function=len)\n",
    "    \n",
    "    splitted_doc = txt_splitter.split_documents(loaded_pdf)\n",
    "    \n",
    "    embedding = OpenAIEmbeddings()\n",
    "    \n",
    "    embedded_doc = Chroma.from_documents(documents=splitted_doc,\n",
    "                                         embedding=embedding)\n",
    "    \n",
    "    doc_retriever = embedded_doc.as_retriever(search_type=\"mmr\", \n",
    "                                              search_kwargs={'k': 10, 'fetch_k': 50})\n",
    "    \n",
    "    doc_retriever_tool = create_retriever_tool(retriever=doc_retriever, \n",
    "                                               name=\"db_retriever\", \n",
    "                                               description=\"This tool contains information from the database.\")\n",
    "    \n",
    "    return doc_retriever_tool"
   ]
  },
  {
   "cell_type": "code",
   "execution_count": 313,
   "id": "d03e3a16-b7e8-4bd2-aa10-d4e12a16343d",
   "metadata": {},
   "outputs": [],
   "source": [
    "doc_retriever_tool = CreateDocRetrieverTool(\"temp.pdf\")"
   ]
  },
  {
   "cell_type": "code",
   "execution_count": 314,
   "id": "609d9bd5-39a8-4ac6-9573-03b63367968d",
   "metadata": {},
   "outputs": [],
   "source": [
    "def CreateSearchEngineTool(llm, prompt, max_results=10):\n",
    "    search_tool = TavilySearchResults(max_results=max_results,\n",
    "                               search_depth=\"advanced\",\n",
    "                               include_answer=True,\n",
    "                               handle_tool_error=True,\n",
    "                               include_raw_content=True,\n",
    "                               include_images=False)\n",
    "\n",
    "    agent_with_tools = create_tool_calling_agent(llm=llm, tools=[search_tool], prompt=prompt)\n",
    "\n",
    "    agent_executor = AgentExecutor(agent=agent_with_tools, \n",
    "                          tools=[search_tool],\n",
    "                          verbose=False,\n",
    "                          handle_parsing_errors=True)\n",
    "    \n",
    "    return agent_executor"
   ]
  },
  {
   "cell_type": "code",
   "execution_count": 315,
   "id": "f2473234-42d6-419a-9804-9e1dcf5ff5dd",
   "metadata": {},
   "outputs": [],
   "source": [
    "llm = ChatOpenAI()"
   ]
  },
  {
   "cell_type": "code",
   "execution_count": 316,
   "id": "bff936f9-32b9-4bed-91d0-c201ac6443fd",
   "metadata": {},
   "outputs": [],
   "source": [
    "class AgentSchema(TypedDict):\n",
    "    input_message:str\n",
    "    search_result:str\n",
    "    query_output:str"
   ]
  },
  {
   "cell_type": "code",
   "execution_count": 317,
   "id": "b690d7c1-c776-4336-8e31-a0c6351dd77a",
   "metadata": {},
   "outputs": [],
   "source": [
    "class ModelRouter(BaseModel):\n",
    "    \"\"\"\n",
    "    Route a user query to the appropriate tool. \n",
    "    \"\"\"\n",
    "    route: Literal[\"websearch\", \"db_retriever\"] = Field(\n",
    "        ..., \n",
    "        description=\"Specifies the routing choice for processing user queries. \"\n",
    "                    \"'websearch' directs the query to an online search engine, \"\n",
    "                    \"while 'db_retriever' fetches relevant information from a database.\"\n",
    "    )"
   ]
  },
  {
   "cell_type": "code",
   "execution_count": 318,
   "id": "747ae4ef-49c5-4a56-a14e-5e9ea52325e7",
   "metadata": {},
   "outputs": [],
   "source": [
    "def DecideRoute(state: AgentSchema):\n",
    "    model_with_structured_output = llm.with_structured_output(ModelRouter)\n",
    "\n",
    "    prompt = ChatPromptTemplate.from_messages([\n",
    "        (\"system\", (\"You are an expert in routing users query to either websearch or database retriever.\"\n",
    "                    \"The database retriever contains information about the reseach paper titled 'Attention is all you need'.\"\n",
    "                    \"Use the database retriever for queries related to the research paper. Otherwise, use websearch.\"\n",
    "                   )\n",
    "        ),\n",
    "        (\"user\", \"{user_input}\")\n",
    "    ])\n",
    "\n",
    "    llm_chain = prompt | model_with_structured_output\n",
    "\n",
    "    data_source = llm_chain.invoke({\"user_input\":state['input_message']})\n",
    "\n",
    "    print(\"Source:\", data_source)\n",
    "    \n",
    "    if data_source.route == \"db_retriever\":\n",
    "        return \"db_retriever\"\n",
    "    else:\n",
    "        return \"websearch\""
   ]
  },
  {
   "cell_type": "code",
   "execution_count": 319,
   "id": "cd4847ae-561b-4d74-a441-2963f5aa165b",
   "metadata": {},
   "outputs": [],
   "source": [
    "# DecideRoute(state={\"input_message\":\"Current president of the united states?\"})"
   ]
  },
  {
   "cell_type": "code",
   "execution_count": 320,
   "id": "71ecb07a-4599-44cf-a8c1-2f85714a0068",
   "metadata": {},
   "outputs": [],
   "source": [
    "def DB_Search(state: AgentSchema):\n",
    "    query_prompt = ChatPromptTemplate.from_messages([\n",
    "        (\"system\", (\"You are an expert in querying a database retriever system. \"\n",
    "                    \"Always assume that every user question requires retrieval from the database. \"\n",
    "                    \"Rephrase the input only if necessary to optimize it for retrieval while preserving its intent. \"\n",
    "                    \"If the input is already optimized or unclear, return it exactly as it is without modification.\")\n",
    "        ),\n",
    "        (\"user\", \"{user_input}\")\n",
    "    ])\n",
    "\n",
    "    query_chain = query_prompt | llm\n",
    "\n",
    "    optimized_query = query_chain.invoke(state[\"input_message\"]).content\n",
    "\n",
    "    query_output = doc_retriever_tool.invoke(optimized_query)\n",
    "\n",
    "    information_extraction_prompt = ChatPromptTemplate.from_messages([\n",
    "        (\"system\",(\"You are an intelligent assistant that answers questions naturally, based on the given information. \"\n",
    "                   \"Your responses should feel like a knowledgeable human, without unnecessary introductions or formal structuring.\\n\\n\"\n",
    "                   \"Context:\\n{context}\")\n",
    "    ),\n",
    "        (\"user\", \"{user_input}\")\n",
    "    ])\n",
    "\n",
    "    infor_ext_chain = information_extraction_prompt | llm\n",
    "    \n",
    "    return {\"search_result\": infor_ext_chain.invoke({\"user_input\":query_output, \"context\":optimized_query}).content}"
   ]
  },
  {
   "cell_type": "code",
   "execution_count": 321,
   "id": "7670b75a-2d82-476c-97fc-cdc118563ab3",
   "metadata": {
    "scrolled": true
   },
   "outputs": [],
   "source": [
    "def InternetSearch(state: AgentSchema):\n",
    "    query_prompt = ChatPromptTemplate.from_messages([\n",
    "        (\"system\", \n",
    "            \"Rephrase user input into a concise, well-structured Google search query. \"\n",
    "            \"Keep it clear, relevant, and keyword-optimized. \"\n",
    "            \"If already well-formed, return as is.\"\n",
    "        ),\n",
    "        (\"user\", \"{user_input}\")\n",
    "    ])\n",
    "\n",
    "    query_chain = query_prompt | llm\n",
    "    \n",
    "    optimized_query = query_chain.invoke({\"user_input\":state[\"input_message\"]}).content\n",
    "\n",
    "    search_prompt = ChatPromptTemplate.from_messages([\n",
    "        (\"system\", \"You are an expert search assistant. Your goal is to retrieve the most relevant information.\"),\n",
    "        MessagesPlaceholder(variable_name=\"chat_history\", optional=True),\n",
    "        (\"user\", \"{search_query}\"),\n",
    "        MessagesPlaceholder(variable_name=\"agent_scratchpad\")\n",
    "    ])\n",
    "\n",
    "    search_tool = CreateSearchEngineTool(llm=llm, prompt=search_prompt)\n",
    "\n",
    "    return {\"search_result\":search_tool.invoke({\"search_query\":optimized_query})[\"output\"]}"
   ]
  },
  {
   "cell_type": "code",
   "execution_count": 322,
   "id": "bc1d9bbe-4415-423b-a31f-a8d1fa2822e5",
   "metadata": {},
   "outputs": [],
   "source": [
    "# InternetSearch(state={\"input_message\":\"who is the current president of AMERICA\"})"
   ]
  },
  {
   "cell_type": "code",
   "execution_count": 323,
   "id": "de6b076d-ce14-4902-bd44-d0fd7fa934fc",
   "metadata": {},
   "outputs": [],
   "source": [
    "def FineTuneResponse(state: AgentSchema):\n",
    "    prompt = ChatPromptTemplate.from_messages([\n",
    "                    (\"system\", \"You are a helpful assistant that extracts the main answer from search results while removing unnecessary phrases.\"),\n",
    "                    (\"user\", \"Given the following search result, extract and provide only the main answer:\\n\\n{search_results}\")\n",
    "                ])\n",
    "    finetune_chain = prompt | llm\n",
    "\n",
    "    results = finetune_chain.invoke({\"search_results\":state[\"search_result\"]}).content\n",
    "\n",
    "    return {\"query_output\":results}"
   ]
  },
  {
   "cell_type": "code",
   "execution_count": 324,
   "id": "37f26510-f1b2-4589-a1f2-196489566cc4",
   "metadata": {},
   "outputs": [],
   "source": [
    "# FineTuneResponse(state={\"search_result\":\" Based on your search query, the president of Nigeria is Tunubu\"})"
   ]
  },
  {
   "cell_type": "code",
   "execution_count": 325,
   "id": "a7fb5341-d97f-4480-892b-784bbcb04286",
   "metadata": {},
   "outputs": [],
   "source": [
    "bot_workflow = StateGraph(state_schema=AgentSchema)"
   ]
  },
  {
   "cell_type": "code",
   "execution_count": 326,
   "id": "5a1cb1d9-f981-4b82-a0e2-6bf249095722",
   "metadata": {},
   "outputs": [
    {
     "data": {
      "text/plain": [
       "<langgraph.graph.state.StateGraph at 0x293a4679510>"
      ]
     },
     "execution_count": 326,
     "metadata": {},
     "output_type": "execute_result"
    }
   ],
   "source": [
    "bot_workflow.add_node(\"DB_Search\", DB_Search)\n",
    "bot_workflow.add_node(\"InternetSearch\", InternetSearch)\n",
    "bot_workflow.add_node(\"FineTuneResponse\", FineTuneResponse)"
   ]
  },
  {
   "cell_type": "code",
   "execution_count": 327,
   "id": "6184a2b5-5af9-4a43-aac1-9434f70e1219",
   "metadata": {},
   "outputs": [
    {
     "data": {
      "text/plain": [
       "<langgraph.graph.state.StateGraph at 0x293a4679510>"
      ]
     },
     "execution_count": 327,
     "metadata": {},
     "output_type": "execute_result"
    }
   ],
   "source": [
    "bot_workflow.add_conditional_edges(START, \n",
    "                                   DecideRoute, \n",
    "                                   {\"db_retriever\":\"DB_Search\",\n",
    "                                    \"websearch\":\"InternetSearch\"})\n",
    "\n",
    "bot_workflow.add_edge(\"DB_Search\", \"FineTuneResponse\")\n",
    "bot_workflow.add_edge(\"InternetSearch\", \"FineTuneResponse\")\n",
    "bot_workflow.add_edge(\"FineTuneResponse\", END)"
   ]
  },
  {
   "cell_type": "code",
   "execution_count": 328,
   "id": "88120a81-c1c2-4196-92ba-7ff44e5f9ca0",
   "metadata": {},
   "outputs": [],
   "source": [
    "multi_agent_bot = bot_workflow.compile()"
   ]
  },
  {
   "cell_type": "code",
   "execution_count": 331,
   "id": "a3b5ee13-8dfb-4ddf-99fa-bbb0e88e99b8",
   "metadata": {},
   "outputs": [
    {
     "data": {
      "image/png": "[encoded data removed]",
      "text/plain": [
       "<IPython.core.display.Image object>"
      ]
     },
     "metadata": {},
     "output_type": "display_data"
    }
   ],
   "source": [
    "display(Image(multi_agent_bot.get_graph().draw_mermaid_png()))"
   ]
  },
  {
   "cell_type": "code",
   "execution_count": 333,
   "id": "feffe53d-3670-4663-b0b6-44be4346f734",
   "metadata": {},
   "outputs": [
    {
     "name": "stdout",
     "output_type": "stream",
     "text": [
      "Source: route='db_retriever'\n"
     ]
    },
    {
     "name": "stderr",
     "output_type": "stream",
     "text": [
      "Number of requested results 50 is greater than number of elements in index 15, updating n_results = 15\n"
     ]
    },
    {
     "data": {
      "text/markdown": [
       "The paper \"Attention is All You Need\" introduces a new simple network architecture called the Transformer, which relies solely on attention mechanisms and eliminates the need for recurrent or convolutional neural networks. The Transformer model shows superior performance in terms of quality, parallelizability, and training time compared to existing models. It achieves significant improvements in machine translation tasks, setting new state-of-the-art results in tasks such as English-to-German and English-to-French translation. The paper also demonstrates the Transformer's ability to generalize well to other tasks, such as English constituency parsing."
      ],
      "text/plain": [
       "<IPython.core.display.Markdown object>"
      ]
     },
     "execution_count": 333,
     "metadata": {},
     "output_type": "execute_result"
    }
   ],
   "source": [
    "Markdown(multi_agent_bot.invoke({\"input_message\":\"what's the Conclusion of the paper attention is all you need?\"})[\"search_result\"])"
   ]
  },
  {
   "cell_type": "code",
   "execution_count": 349,
   "id": "77cfbd90-abc9-4b22-962a-84b3c3b66e47",
   "metadata": {},
   "outputs": [
    {
     "name": "stdout",
     "output_type": "stream",
     "text": [
      "Source: route='websearch'\n"
     ]
    },
    {
     "data": {
      "text/markdown": [
       "Here are some current trends in Nigeria:\n",
       "\n",
       "1. **Executing fiscal reforms**: Balancing ambition with budgetary implementation.\n",
       "2. **Evolving monetary policy stance**: Finding the right framework.\n",
       "3. **Evolution of Conscious Commerce Amongst Consumers**.\n",
       "4. **Retailers as Major Influencers for Generating Sales**.\n",
       "5. **AI will transform the way**.\n",
       "6. **6 Smart Digital Trends to Adopt for Growth**: Including Mobile-First Commerce, Social Commerce and Search, and Personalization and AI-Powered Automation.\n",
       "7. **Weakening economy and rising insecurity**: These factors threaten progress made in Nigeria's democratic development.\n",
       "8. **Slow economic growth in 2023**: Economic growth in Nigeria slowed from 3.3% in 2022 to 2.9% in 2023 due to high inflation and sluggish conditions.\n",
       "9. **Insecurity challenges**: Nigeria continues to face social and economic challenges, including insecurity such as banditry and kidnappings, especially in the northwest region.\n",
       "10. **GDP growth**: Nigeria's Gross Domestic Product (GDP) grew by 3.84% (year-on-year) in real terms in the fourth quarter of 2024.\n",
       "\n",
       "For more detailed information, you can visit the provided URLs."
      ],
      "text/plain": [
       "<IPython.core.display.Markdown object>"
      ]
     },
     "execution_count": 349,
     "metadata": {},
     "output_type": "execute_result"
    }
   ],
   "source": [
    "Markdown(multi_agent_bot.invoke({\"input_message\":\"whats the current trend in Nigeria?\"})[\"search_result\"])"
   ]
  }
 ],
 "metadata": {
  "kernelspec": {
   "display_name": "Python [conda env:NLP_ENV]",
   "language": "python",
   "name": "conda-env-NLP_ENV-py"
  },
  "language_info": {
   "codemirror_mode": {
    "name": "ipython",
    "version": 3
   },
   "file_extension": ".py",
   "mimetype": "text/x-python",
   "name": "python",
   "nbconvert_exporter": "python",
   "pygments_lexer": "ipython3",
   "version": "3.11.11"
  }
 },
 "nbformat": 4,
 "nbformat_minor": 5
}
